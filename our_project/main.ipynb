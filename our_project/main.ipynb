{
 "cells": [
  {
   "cell_type": "code",
   "execution_count": 1,
   "metadata": {},
   "outputs": [],
   "source": [
    "import numpy as np"
   ]
  },
  {
   "cell_type": "code",
   "execution_count": 2,
   "metadata": {},
   "outputs": [],
   "source": [
    "A = np.loadtxt(\"car.csv\", delimiter=\",\", dtype=int)"
   ]
  },
  {
   "cell_type": "code",
   "execution_count": 10,
   "metadata": {},
   "outputs": [
    {
     "data": {
      "text/plain": [
       "<matplotlib.image.AxesImage at 0x1c129847550>"
      ]
     },
     "execution_count": 10,
     "metadata": {},
     "output_type": "execute_result"
    },
    {
     "data": {
      "image/png": "[encoded data removed]",
      "text/plain": [
       "<Figure size 432x288 with 1 Axes>"
      ]
     },
     "metadata": {
      "needs_background": "light"
     },
     "output_type": "display_data"
    }
   ],
   "source": [
    "import matplotlib.pyplot as plt\n",
    "\n",
    "plt.imshow(A[:200])"
   ]
  },
  {
   "cell_type": "code",
   "execution_count": 29,
   "metadata": {},
   "outputs": [],
   "source": [
    "from math import ceil, floor, sqrt\n",
    "\n",
    "size_of_pixel = .5\n",
    "\n",
    "def check_collisions(x: float, y: float, r: float) -> bool:\n",
    "    start_x = max(0, floor((x - r) / size_of_pixel))\n",
    "    end_x = min(A.shape[0]-1, ceil((x + r) / size_of_pixel))\n",
    "    start_y = max(0, floor((y - r) / size_of_pixel))\n",
    "    end_y = min(A.shape[1]-1, ceil((y + r) / size_of_pixel))\n",
    "\n",
    "    pixel_radius = size_of_pixel / sqrt(2)\n",
    "\n",
    "    for x_i in range(start_x, end_x + 1):\n",
    "        for y_i in range(start_y, end_y + 1):\n",
    "            if A[x_i, y_i] == 1 and \\\n",
    "                (x - x_i * size_of_pixel) ** 2 + (y - y_i * size_of_pixel) ** 2 <= (r + pixel_radius) ** 2:\n",
    "                return True\n",
    "    return False"
   ]
  },
  {
   "cell_type": "code",
   "execution_count": 49,
   "metadata": {},
   "outputs": [
    {
     "data": {
      "text/plain": [
       "True"
      ]
     },
     "execution_count": 49,
     "metadata": {},
     "output_type": "execute_result"
    },
    {
     "data": {
      "image/png": "[encoded data removed]",
      "text/plain": [
       "<Figure size 432x288 with 1 Axes>"
      ]
     },
     "metadata": {
      "needs_background": "light"
     },
     "output_type": "display_data"
    }
   ],
   "source": [
    "x, y = 30, 170\n",
    "r = 20\n",
    "\n",
    "plt.imshow(A)\n",
    "plt.gca().add_patch(plt.Circle((y/size_of_pixel, x/size_of_pixel), r/size_of_pixel, fill=False))\n",
    "check_collisions(x, y, r)"
   ]
  },
  {
   "cell_type": "code",
   "execution_count": 47,
   "metadata": {},
   "outputs": [
    {
     "data": {
      "text/plain": [
       "False"
      ]
     },
     "execution_count": 47,
     "metadata": {},
     "output_type": "execute_result"
    },
    {
     "data": {
      "image/png": "[encoded data removed]",
      "text/plain": [
       "<Figure size 432x288 with 1 Axes>"
      ]
     },
     "metadata": {
      "needs_background": "light"
     },
     "output_type": "display_data"
    }
   ],
   "source": [
    "x, y = 30, 185\n",
    "r = 20\n",
    "\n",
    "plt.imshow(A)\n",
    "plt.gca().add_patch(plt.Circle((y/size_of_pixel, x/size_of_pixel), r/size_of_pixel, fill=False))\n",
    "check_collisions(x, y, r)"
   ]
  }
 ],
 "metadata": {
  "kernelspec": {
   "display_name": "Python 3",
   "language": "python",
   "name": "python3"
  },
  "language_info": {
   "codemirror_mode": {
    "name": "ipython",
    "version": 3
   },
   "file_extension": ".py",
   "mimetype": "text/x-python",
   "name": "python",
   "nbconvert_exporter": "python",
   "pygments_lexer": "ipython3",
   "version": "3.9.7"
  }
 },
 "nbformat": 4,
 "nbformat_minor": 2
}
